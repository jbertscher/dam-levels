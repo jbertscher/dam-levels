{
 "cells": [
  {
   "cell_type": "code",
   "execution_count": null,
   "metadata": {
    "collapsed": true
   },
   "outputs": [],
   "source": [
    "import math\n",
    "for y, f in fits.items():\n",
    "#     print('{0}: {1} days'.format(y, 402518/f[1][1]))\n",
    "    start_storage = wet_season.loc[wet_season['year'] == y, 'start_storage_ml']\n",
    "    fit = f[1]\n",
    "    c = fit[0] - start_storage - 402518\n",
    "    b = fit[1]\n",
    "    a = fit[2]\n",
    "    days = [float('nan'), float('nan')]\n",
    "    try:\n",
    "        days[0] = float(-(b - math.sqrt(math.pow(b, 2) - 4*a*c))/(2*a))\n",
    "    except ValueError:\n",
    "        pass\n",
    "    try:\n",
    "        days[1] = float(-(b + math.sqrt(math.pow(b, 2) - 4*a*c))/(2*a))\n",
    "    except ValueError:\n",
    "        pass\n",
    "    \n",
    "    print('{0}: {1}d or {2}d days'.format(y, days[0], days[1]))\n",
    "    print()"
   ]
  },
  {
   "cell_type": "code",
   "execution_count": null,
   "metadata": {
    "collapsed": true
   },
   "outputs": [],
   "source": [
    "$$w_{t+1} = w_{t} + s_{t} - c_{t}$$\n",
    "\n",
    "In other words, the water level at the beginning of the next dry season (October 2019) is equal to the water level at the beginning of the dry season this year (October 2018) plus additional water into the system less consumption over the period. Since the same equation holds for determining the water levels at the beginning of this year's dry season, we can substitute in the same equation (but for time period $t-1$ insead of $t$). This leaves us with:\n",
    "\n",
    "$$w_{t+1} = [w_{t-1} + s_{t-1} - c{t-1}] + s_{t} - c_{t}$$\n",
    "\n",
    "Let's assume that we need at least 1 seasos worth of water at the beginning of next season. We don't know how much water we'll have at the beginning of the dry season this year. That's going to depend on which scenario we're in. Let's assume we run out of water this year, so that $w_{t-1} = 0$. Now the consumption patterns are something we can't explain in the model but we do have *net* supply - in other words, supply less consumption - that's just the increase/decrease in water levels over the period. Let's call that $delta$ so that the new equation is simplified as:\n",
    "$$w_{t+1} = w_{t-1} + delta{t-1} + delta{t-1} $$\n",
    "\n",
    "\n",
    "$$s_t = s_{t-1} + w_{t-1} - c_{t}$$\n",
    "\n",
    "where:\n",
    "+ $s_t$ = storage by the end of the period\n",
    "+ $s_{t-1}$ = storage left over from the prior period\n",
    "+ $w_{t-1}$ = water supplied to the system in the prior period\n",
    "+ $c_{t-1}$ = water consumption that we expect in the given period\n",
    "\n",
    "In words, the storage at the beginning of summer is dependent on the previous period's input into the system (historically by precipitation) in addition to what was already there, less water used in the last period. Now, we have already calculated what we use in one period and how much water gets supplied under different scenarios. So we can solve for how much we need at the beginning of summer if we have a bad winter:\n",
    "$$s_{t-1} = s_t + c_t - w_{t-1} \\\\\n",
    "= 0 + 402,518 - 280,000$$"
   ]
  },
  {
   "cell_type": "code",
   "execution_count": null,
   "metadata": {
    "collapsed": true
   },
   "outputs": [],
   "source": [
    "import matplotlib.dates as mdates\n",
    "fits = {}\n",
    "for y in wet_season_storage['year'].unique():\n",
    "    x = range(len(wet_season_storage.loc[wet_season_storage['year'] == y, 'date']))\n",
    "    #x = mdates.date2num(wet_season_storage.loc[wet_season_storage['year'] == y, 'date'].astype(datetime.date))\n",
    "    f = np.polyfit(x, wet_season_storage.loc[wet_season_storage['year'] == y, 'storage_ml'], deg = 3)\n",
    "    fits[y] = (x, np.poly1d(f))"
   ]
  },
  {
   "cell_type": "code",
   "execution_count": null,
   "metadata": {
    "collapsed": true
   },
   "outputs": [],
   "source": [
    "for y, f in fits.items():\n",
    "    y\n",
    "    plt.plot(wet_season_storage.loc[wet_season_storage['year'] == y, 'date'], wet_season_storage.loc[wet_season_storage['year'] == y, 'storage_ml'])\n",
    "    plt.plot(wet_season_storage.loc[wet_season_storage['year'] == y, 'date'], f[1](f[0]))\n",
    "    plt.show();"
   ]
  },
  {
   "cell_type": "code",
   "execution_count": null,
   "metadata": {
    "collapsed": true
   },
   "outputs": [],
   "source": [
    "wet_season_storage['month'] = wet_season_storage['date'].dt.month\n",
    "wet_season_storage['dayofmonth'] = wet_season_storage['date'].dt.day\n",
    "wet_season_storage['daymonthyear'] = wet_season_storage.apply(lambda r: datetime.date(day = pd.to_numeric(r['dayofmonth']),\n",
    "                                                                                  month = pd.to_numeric(r['month']),\n",
    "                                                                                  year = 2017), \n",
    "                                                          axis = 1)\n",
    "\n",
    "\n",
    "first_day_of_month = wet_season_storage.loc[(wet_season_storage['dayofmonth'] == 1), ['date', 'daymonthyear']].drop_duplicates()\n",
    "first_day_of_month['lag_date'] = first_day_of_month['date'].shift(periods = 1)\n",
    "first_day_of_month['cumsum_dayofyear'] = (first_day_of_month['date'] - first_day_of_month['lag_date']).dt.days.cumsum().fillna(0) + 1\n",
    "\n",
    "\n",
    "ddates = mdates.num2date(dates)\n",
    "ddates = [d.date() for d in ddates]"
   ]
  },
  {
   "cell_type": "code",
   "execution_count": null,
   "metadata": {
    "collapsed": true
   },
   "outputs": [],
   "source": [
    "# Sets style for pyplot graphs to match seaborn\n",
    "sns.set_style(\"darkgrid\")\n",
    "\n",
    "df = agg_storage_ml.loc[agg_storage_ml['year'] == 2013]\n",
    "\n",
    "fig, ax = plt.subplots(figsize=[20,10]) # [w, h]\n",
    "plt.plot(range(len(df)),\n",
    "         df['storage_ml'], \n",
    "         label = 'Big 6 Storage (2013)', \n",
    "         linewidth = 4)\n",
    "ax.axhline(y = capacity.loc['total']['unavailable_storage_ml'], \n",
    "           label = 'Unavailable Storage', \n",
    "           c = 'red', \n",
    "           linewidth = 4)\n",
    "\n",
    "fd = first_day_of_month.loc[first_day_of_month['date'].dt.year == 2013]\n",
    "\n",
    "plt.xticks(fd['cumsum_dayofyear'] - 367.0, fd['daymonthyear'], rotation = 90, fontsize = 15);\n",
    "plt.xlabel('Date', fontsize = 15, fontweight = 'bold')\n",
    "\n",
    "plt.yticks(fontsize = 15)\n",
    "plt.ylabel('Storage (ML)', fontsize = 15, fontweight = 'bold')\n",
    "plt.ylim(ymin = 0)\n",
    "\n",
    "plt.legend(fontsize = 15)\n",
    "plt.title('Total Storage (2013)', fontsize = 25);"
   ]
  }
 ],
 "metadata": {
  "kernelspec": {
   "display_name": "Python 3",
   "language": "python",
   "name": "python3"
  },
  "language_info": {
   "codemirror_mode": {
    "name": "ipython",
    "version": 3
   },
   "file_extension": ".py",
   "mimetype": "text/x-python",
   "name": "python",
   "nbconvert_exporter": "python",
   "pygments_lexer": "ipython3",
   "version": "3.6.1"
  }
 },
 "nbformat": 4,
 "nbformat_minor": 2
}
