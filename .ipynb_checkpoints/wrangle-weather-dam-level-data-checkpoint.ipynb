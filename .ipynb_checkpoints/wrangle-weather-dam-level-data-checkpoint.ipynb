{
 "cells": [
  {
   "cell_type": "markdown",
   "metadata": {},
   "source": [
    "# Introduction\n",
    "\n",
    "I have downloaded the weather data for the Theewaterskloof dam weather station and I need to parse this data and combine with the Theewaterskloof dam-level data. I have limited myself to this dam because doing this for every dam is only worth doing if I can find some interesting enough results. It's a good idea to get a 'minimum viable product' going to see if it's worth expending more effort. As it turns out, when I analyse the results, I find that the relationships between the observed weather and dam-level data is quite tenuous. \n",
    "\n",
    "We need to do 2 things:\n",
    "+ 1) Read in the weather data, which is currently sitting in multiple json files (one for each day)\n",
    "+ 2) Combine the weather data with the clean dam-level data (which I clean [here](http://localhost:8888/notebooks/dam-levels/clean-dam-level-data.ipynb))"
   ]
  },
  {
   "cell_type": "code",
   "execution_count": 34,
   "metadata": {
    "collapsed": true
   },
   "outputs": [],
   "source": [
    "import pandas as pd\n",
    "import numpy as np\n",
    "import datetime"
   ]
  },
  {
   "cell_type": "markdown",
   "metadata": {},
   "source": [
    "# Read and clean weather data\n",
    "\n",
    "Read weather data from json files & parse into DataFrame. The data is very detailed, reported on an hourly basis. For our purposes, I'm going to concentrate on the daily summary. When we read the json file directly into a DataFrame, the relevant data is in the 'history' column in the 'dailysummary' row as a list with a single entry: a dictionary. We need to extract the keys and values from ths dictionary."
   ]
  },
  {
   "cell_type": "code",
   "execution_count": null,
   "metadata": {},
   "outputs": [
    {
     "data": {
      "text/html": [
       "<div>\n",
       "<style>\n",
       "    .dataframe thead tr:only-child th {\n",
       "        text-align: right;\n",
       "    }\n",
       "\n",
       "    .dataframe thead th {\n",
       "        text-align: left;\n",
       "    }\n",
       "\n",
       "    .dataframe tbody tr th {\n",
       "        vertical-align: top;\n",
       "    }\n",
       "</style>\n",
       "<table border=\"1\" class=\"dataframe\">\n",
       "  <thead>\n",
       "    <tr style=\"text-align: right;\">\n",
       "      <th></th>\n",
       "      <th>history</th>\n",
       "      <th>response</th>\n",
       "    </tr>\n",
       "  </thead>\n",
       "  <tbody>\n",
       "    <tr>\n",
       "      <th>dailysummary</th>\n",
       "      <td>[{'monthtodatecoolingdegreedays': '', 'since1j...</td>\n",
       "      <td>NaN</td>\n",
       "    </tr>\n",
       "    <tr>\n",
       "      <th>date</th>\n",
       "      <td>{'min': '00', 'mon': '01', 'tzname': 'Africa/J...</td>\n",
       "      <td>NaN</td>\n",
       "    </tr>\n",
       "    <tr>\n",
       "      <th>features</th>\n",
       "      <td>NaN</td>\n",
       "      <td>{'history': 1}</td>\n",
       "    </tr>\n",
       "    <tr>\n",
       "      <th>observations</th>\n",
       "      <td>[{'wspdi': '10.4', 'tempm': '18.0', 'precipm':...</td>\n",
       "      <td>NaN</td>\n",
       "    </tr>\n",
       "    <tr>\n",
       "      <th>termsofService</th>\n",
       "      <td>NaN</td>\n",
       "      <td>http://www.wunderground.com/weather/api/d/term...</td>\n",
       "    </tr>\n",
       "    <tr>\n",
       "      <th>utcdate</th>\n",
       "      <td>{'min': '00', 'mon': '12', 'tzname': 'UTC', 'm...</td>\n",
       "      <td>NaN</td>\n",
       "    </tr>\n",
       "    <tr>\n",
       "      <th>version</th>\n",
       "      <td>NaN</td>\n",
       "      <td>0.1</td>\n",
       "    </tr>\n",
       "  </tbody>\n",
       "</table>\n",
       "</div>"
      ],
      "text/plain": [
       "                                                          history  \\\n",
       "dailysummary    [{'monthtodatecoolingdegreedays': '', 'since1j...   \n",
       "date            {'min': '00', 'mon': '01', 'tzname': 'Africa/J...   \n",
       "features                                                      NaN   \n",
       "observations    [{'wspdi': '10.4', 'tempm': '18.0', 'precipm':...   \n",
       "termsofService                                                NaN   \n",
       "utcdate         {'min': '00', 'mon': '12', 'tzname': 'UTC', 'm...   \n",
       "version                                                       NaN   \n",
       "\n",
       "                                                         response  \n",
       "dailysummary                                                  NaN  \n",
       "date                                                          NaN  \n",
       "features                                           {'history': 1}  \n",
       "observations                                                  NaN  \n",
       "termsofService  http://www.wunderground.com/weather/api/d/term...  \n",
       "utcdate                                                       NaN  \n",
       "version                                                       0.1  "
      ]
     },
     "execution_count": 35,
     "metadata": {},
     "output_type": "execute_result"
    }
   ],
   "source": [
    "pd.read_json('data/weather/Theewaterskloof_20120101.json')"
   ]
  },
  {
   "cell_type": "code",
   "execution_count": null,
   "metadata": {
    "collapsed": true
   },
   "outputs": [],
   "source": [
    "weather_data = pd.DataFrame()\n",
    "index_error_dates = []  # At least 1 day where node we're referencing doesn't exist - keeps track of the date(s) where this occurs\n",
    "date = datetime.date(year = 2012, month = 1, day = 1)\n",
    "while date < datetime.date(year = 2017, month = 12, day = 23):\n",
    "    nextday = pd.Series()\n",
    "    nextday.name = date\n",
    "    nextday_df = pd.read_json('data/weather/Theewaterskloof_{0}.json'.format(str(date.strftime('%Y%m%d'))))\n",
    "    try:\n",
    "        for key, value in nextday_df['history']['dailysummary'][0].items():\n",
    "            if not isinstance(value, dict):\n",
    "                nextday[key] = value\n",
    "        nextday = nextday.to_frame().transpose()\n",
    "        weather_data = pd.concat([weather_data, nextday], axis = 0)\n",
    "    except IndexError:\n",
    "        index_error_dates.append(date.strftime('%Y-%m-%d'))\n",
    "    date = date + datetime.timedelta(days = 1)"
   ]
  },
  {
   "cell_type": "markdown",
   "metadata": {},
   "source": [
    "There is only one date with missing data"
   ]
  },
  {
   "cell_type": "code",
   "execution_count": null,
   "metadata": {},
   "outputs": [],
   "source": [
    "index_error_dates"
   ]
  },
  {
   "cell_type": "markdown",
   "metadata": {},
   "source": [
    "Convert index to date and numeric values to numeric data types."
   ]
  },
  {
   "cell_type": "code",
   "execution_count": null,
   "metadata": {
    "collapsed": true
   },
   "outputs": [],
   "source": [
    "weather_data.index = pd.to_datetime(weather_data.index)\n",
    "weather_data = weather_data.apply(pd.to_numeric, errors = 'ignore')\n",
    "is_all_null = weather_data.apply(lambda x: x.isnull().sum() == len(x))\n",
    "not_all_null = is_all_null[is_all_null == False]\n",
    "weather_data = weather_data[not_all_null.index]"
   ]
  },
  {
   "cell_type": "markdown",
   "metadata": {},
   "source": [
    "# Read dam-level data & combine with the weather data"
   ]
  },
  {
   "cell_type": "code",
   "execution_count": null,
   "metadata": {
    "collapsed": true
   },
   "outputs": [],
   "source": [
    "dam_levels = pd.read_csv('data/Dam-levels-clean-20120101-20171206.csv', encoding = 'latin1')\n",
    "tw_dam_levels = dam_levels.loc[dam_levels['dam_name'] == 'Theewaterskloof']\n",
    "tw_dam_levels.index = tw_dam_levels['date']\n",
    "tw_dam_levels.index = pd.to_datetime(tw_dam_levels.index)\n",
    "tw_dam_levels = tw_dam_levels.drop('date', axis = 1)"
   ]
  },
  {
   "cell_type": "code",
   "execution_count": null,
   "metadata": {
    "scrolled": true
   },
   "outputs": [],
   "source": [
    "data = pd.merge(tw_dam_levels, weather_data, left_index = True, right_index = True)\n",
    "data.index.name = 'date'\n",
    "data.head()"
   ]
  },
  {
   "cell_type": "markdown",
   "metadata": {},
   "source": [
    "These columns aren't needed because:\n",
    "+ The dam variables for current and last year storage as a percentage\n",
    "+ The weather variables with imperial measurements (we already have the metric analogues)"
   ]
  },
  {
   "cell_type": "code",
   "execution_count": null,
   "metadata": {},
   "outputs": [],
   "source": [
    "data = data.drop(['current_%', 'last year_%', 'precipi', 'meanwindspdi', 'maxwspdi', 'minwspdi',\n",
    "                 'maxvisi', 'minvisi', 'meanvisi', 'maxpressurei', 'minpressurei', 'meanpressurei',\n",
    "                 'maxtempi', 'mintempi', 'meantempi', 'maxdewpti', 'mindewpti', 'meandewpti'], axis = 1)"
   ]
  },
  {
   "cell_type": "markdown",
   "metadata": {},
   "source": [
    "# Write output to disk:"
   ]
  },
  {
   "cell_type": "markdown",
   "metadata": {},
   "source": [
    "All that's left is to save this as a csv."
   ]
  },
  {
   "cell_type": "code",
   "execution_count": null,
   "metadata": {
    "scrolled": true
   },
   "outputs": [],
   "source": [
    "data.head()"
   ]
  },
  {
   "cell_type": "code",
   "execution_count": null,
   "metadata": {
    "collapsed": true
   },
   "outputs": [],
   "source": [
    "data.to_csv('data/Theewaterskloof-weather-and-dam-levels-clean-20120101-20171206.csv')"
   ]
  }
 ],
 "metadata": {
  "anaconda-cloud": {},
  "kernelspec": {
   "display_name": "Python [conda env:Anaconda3]",
   "language": "python",
   "name": "conda-env-Anaconda3-py"
  },
  "language_info": {
   "codemirror_mode": {
    "name": "ipython",
    "version": 3
   },
   "file_extension": ".py",
   "mimetype": "text/x-python",
   "name": "python",
   "nbconvert_exporter": "python",
   "pygments_lexer": "ipython3",
   "version": "3.5.4"
  }
 },
 "nbformat": 4,
 "nbformat_minor": 2
}
