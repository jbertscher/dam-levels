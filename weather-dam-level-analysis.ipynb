{
 "cells": [
  {
   "cell_type": "code",
   "execution_count": 23,
   "metadata": {
    "collapsed": true
   },
   "outputs": [],
   "source": [
    "%matplotlib inline\n",
    "\n",
    "import pandas as pd\n",
    "import datetime\n",
    "from matplotlib import pyplot as plt\n"
   ]
  },
  {
   "cell_type": "code",
   "execution_count": 30,
   "metadata": {
    "collapsed": true
   },
   "outputs": [],
   "source": [
    "rain = pd.Series()\n",
    "date = datetime.date(year = 2012, month = 1, day = 1)\n",
    "while date < datetime.date(year = 2015, month = 1, day = 1):\n",
    "    df = pd.read_json('data/weather/Theewaterskloof_{0}.json'.format(str(date.strftime('%Y%m%d'))))\n",
    "    rain[date] = df['history']['dailysummary'][0]['precipm']\n",
    "    date = date + datetime.timedelta(days = 1)\n",
    "    "
   ]
  },
  {
   "cell_type": "code",
   "execution_count": 54,
   "metadata": {},
   "outputs": [
    {
     "data": {
      "text/html": [
       "<div>\n",
       "<style>\n",
       "    .dataframe thead tr:only-child th {\n",
       "        text-align: right;\n",
       "    }\n",
       "\n",
       "    .dataframe thead th {\n",
       "        text-align: left;\n",
       "    }\n",
       "\n",
       "    .dataframe tbody tr th {\n",
       "        vertical-align: top;\n",
       "    }\n",
       "</style>\n",
       "<table border=\"1\" class=\"dataframe\">\n",
       "  <thead>\n",
       "    <tr style=\"text-align: right;\">\n",
       "      <th></th>\n",
       "      <th>d</th>\n",
       "    </tr>\n",
       "  </thead>\n",
       "  <tbody>\n",
       "    <tr>\n",
       "      <th>coolingdegreedays</th>\n",
       "      <td>date</td>\n",
       "    </tr>\n",
       "    <tr>\n",
       "      <th>coolingdegreedaysnormal</th>\n",
       "      <td>fog</td>\n",
       "    </tr>\n",
       "    <tr>\n",
       "      <th>date</th>\n",
       "      <td>rain</td>\n",
       "    </tr>\n",
       "    <tr>\n",
       "      <th>fog</th>\n",
       "      <td>snow</td>\n",
       "    </tr>\n",
       "    <tr>\n",
       "      <th>gdegreedays</th>\n",
       "      <td>snowfallm</td>\n",
       "    </tr>\n",
       "    <tr>\n",
       "      <th>hail</th>\n",
       "      <td>snowfalli</td>\n",
       "    </tr>\n",
       "    <tr>\n",
       "      <th>heatingdegreedays</th>\n",
       "      <td>monthtodatesnowfallm</td>\n",
       "    </tr>\n",
       "    <tr>\n",
       "      <th>heatingdegreedaysnormal</th>\n",
       "      <td>monthtodatesnowfalli</td>\n",
       "    </tr>\n",
       "    <tr>\n",
       "      <th>humidity</th>\n",
       "      <td>since1julsnowfallm</td>\n",
       "    </tr>\n",
       "    <tr>\n",
       "      <th>maxdewpti</th>\n",
       "      <td>since1julsnowfalli</td>\n",
       "    </tr>\n",
       "    <tr>\n",
       "      <th>maxdewptm</th>\n",
       "      <td>snowdepthm</td>\n",
       "    </tr>\n",
       "    <tr>\n",
       "      <th>maxhumidity</th>\n",
       "      <td>snowdepthi</td>\n",
       "    </tr>\n",
       "    <tr>\n",
       "      <th>maxpressurei</th>\n",
       "      <td>hail</td>\n",
       "    </tr>\n",
       "    <tr>\n",
       "      <th>maxpressurem</th>\n",
       "      <td>thunder</td>\n",
       "    </tr>\n",
       "    <tr>\n",
       "      <th>maxtempi</th>\n",
       "      <td>tornado</td>\n",
       "    </tr>\n",
       "    <tr>\n",
       "      <th>maxtempm</th>\n",
       "      <td>meantempm</td>\n",
       "    </tr>\n",
       "    <tr>\n",
       "      <th>maxvisi</th>\n",
       "      <td>meantempi</td>\n",
       "    </tr>\n",
       "    <tr>\n",
       "      <th>maxvism</th>\n",
       "      <td>meandewptm</td>\n",
       "    </tr>\n",
       "    <tr>\n",
       "      <th>maxwspdi</th>\n",
       "      <td>meandewpti</td>\n",
       "    </tr>\n",
       "    <tr>\n",
       "      <th>maxwspdm</th>\n",
       "      <td>meanpressurem</td>\n",
       "    </tr>\n",
       "    <tr>\n",
       "      <th>meandewpti</th>\n",
       "      <td>meanpressurei</td>\n",
       "    </tr>\n",
       "    <tr>\n",
       "      <th>meandewptm</th>\n",
       "      <td>meanwindspdm</td>\n",
       "    </tr>\n",
       "    <tr>\n",
       "      <th>meanpressurei</th>\n",
       "      <td>meanwindspdi</td>\n",
       "    </tr>\n",
       "    <tr>\n",
       "      <th>meanpressurem</th>\n",
       "      <td>meanwdire</td>\n",
       "    </tr>\n",
       "    <tr>\n",
       "      <th>meantempi</th>\n",
       "      <td>meanwdird</td>\n",
       "    </tr>\n",
       "    <tr>\n",
       "      <th>meantempm</th>\n",
       "      <td>meanvism</td>\n",
       "    </tr>\n",
       "    <tr>\n",
       "      <th>meanvisi</th>\n",
       "      <td>meanvisi</td>\n",
       "    </tr>\n",
       "    <tr>\n",
       "      <th>meanvism</th>\n",
       "      <td>humidity</td>\n",
       "    </tr>\n",
       "    <tr>\n",
       "      <th>meanwdird</th>\n",
       "      <td>maxtempm</td>\n",
       "    </tr>\n",
       "    <tr>\n",
       "      <th>meanwdire</th>\n",
       "      <td>maxtempi</td>\n",
       "    </tr>\n",
       "    <tr>\n",
       "      <th>...</th>\n",
       "      <td>...</td>\n",
       "    </tr>\n",
       "    <tr>\n",
       "      <th>minvism</th>\n",
       "      <td>minpressurem</td>\n",
       "    </tr>\n",
       "    <tr>\n",
       "      <th>minwspdi</th>\n",
       "      <td>minpressurei</td>\n",
       "    </tr>\n",
       "    <tr>\n",
       "      <th>minwspdm</th>\n",
       "      <td>maxwspdm</td>\n",
       "    </tr>\n",
       "    <tr>\n",
       "      <th>monthtodatecoolingdegreedays</th>\n",
       "      <td>maxwspdi</td>\n",
       "    </tr>\n",
       "    <tr>\n",
       "      <th>monthtodatecoolingdegreedaysnormal</th>\n",
       "      <td>minwspdm</td>\n",
       "    </tr>\n",
       "    <tr>\n",
       "      <th>monthtodateheatingdegreedays</th>\n",
       "      <td>minwspdi</td>\n",
       "    </tr>\n",
       "    <tr>\n",
       "      <th>monthtodateheatingdegreedaysnormal</th>\n",
       "      <td>maxvism</td>\n",
       "    </tr>\n",
       "    <tr>\n",
       "      <th>monthtodatesnowfalli</th>\n",
       "      <td>maxvisi</td>\n",
       "    </tr>\n",
       "    <tr>\n",
       "      <th>monthtodatesnowfallm</th>\n",
       "      <td>minvism</td>\n",
       "    </tr>\n",
       "    <tr>\n",
       "      <th>precipi</th>\n",
       "      <td>minvisi</td>\n",
       "    </tr>\n",
       "    <tr>\n",
       "      <th>precipm</th>\n",
       "      <td>gdegreedays</td>\n",
       "    </tr>\n",
       "    <tr>\n",
       "      <th>precipsource</th>\n",
       "      <td>heatingdegreedays</td>\n",
       "    </tr>\n",
       "    <tr>\n",
       "      <th>rain</th>\n",
       "      <td>coolingdegreedays</td>\n",
       "    </tr>\n",
       "    <tr>\n",
       "      <th>since1jancoolingdegreedays</th>\n",
       "      <td>precipm</td>\n",
       "    </tr>\n",
       "    <tr>\n",
       "      <th>since1jancoolingdegreedaysnormal</th>\n",
       "      <td>precipi</td>\n",
       "    </tr>\n",
       "    <tr>\n",
       "      <th>since1julheatingdegreedays</th>\n",
       "      <td>precipsource</td>\n",
       "    </tr>\n",
       "    <tr>\n",
       "      <th>since1julheatingdegreedaysnormal</th>\n",
       "      <td>heatingdegreedaysnormal</td>\n",
       "    </tr>\n",
       "    <tr>\n",
       "      <th>since1julsnowfalli</th>\n",
       "      <td>monthtodateheatingdegreedays</td>\n",
       "    </tr>\n",
       "    <tr>\n",
       "      <th>since1julsnowfallm</th>\n",
       "      <td>monthtodateheatingdegreedaysnormal</td>\n",
       "    </tr>\n",
       "    <tr>\n",
       "      <th>since1sepcoolingdegreedays</th>\n",
       "      <td>since1sepheatingdegreedays</td>\n",
       "    </tr>\n",
       "    <tr>\n",
       "      <th>since1sepcoolingdegreedaysnormal</th>\n",
       "      <td>since1sepheatingdegreedaysnormal</td>\n",
       "    </tr>\n",
       "    <tr>\n",
       "      <th>since1sepheatingdegreedays</th>\n",
       "      <td>since1julheatingdegreedays</td>\n",
       "    </tr>\n",
       "    <tr>\n",
       "      <th>since1sepheatingdegreedaysnormal</th>\n",
       "      <td>since1julheatingdegreedaysnormal</td>\n",
       "    </tr>\n",
       "    <tr>\n",
       "      <th>snow</th>\n",
       "      <td>coolingdegreedaysnormal</td>\n",
       "    </tr>\n",
       "    <tr>\n",
       "      <th>snowdepthi</th>\n",
       "      <td>monthtodatecoolingdegreedays</td>\n",
       "    </tr>\n",
       "    <tr>\n",
       "      <th>snowdepthm</th>\n",
       "      <td>monthtodatecoolingdegreedaysnormal</td>\n",
       "    </tr>\n",
       "    <tr>\n",
       "      <th>snowfalli</th>\n",
       "      <td>since1sepcoolingdegreedays</td>\n",
       "    </tr>\n",
       "    <tr>\n",
       "      <th>snowfallm</th>\n",
       "      <td>since1sepcoolingdegreedaysnormal</td>\n",
       "    </tr>\n",
       "    <tr>\n",
       "      <th>thunder</th>\n",
       "      <td>since1jancoolingdegreedays</td>\n",
       "    </tr>\n",
       "    <tr>\n",
       "      <th>tornado</th>\n",
       "      <td>since1jancoolingdegreedaysnormal</td>\n",
       "    </tr>\n",
       "  </tbody>\n",
       "</table>\n",
       "<p>70 rows × 1 columns</p>\n",
       "</div>"
      ],
      "text/plain": [
       "                                                                     d\n",
       "coolingdegreedays                                                 date\n",
       "coolingdegreedaysnormal                                            fog\n",
       "date                                                              rain\n",
       "fog                                                               snow\n",
       "gdegreedays                                                  snowfallm\n",
       "hail                                                         snowfalli\n",
       "heatingdegreedays                                 monthtodatesnowfallm\n",
       "heatingdegreedaysnormal                           monthtodatesnowfalli\n",
       "humidity                                            since1julsnowfallm\n",
       "maxdewpti                                           since1julsnowfalli\n",
       "maxdewptm                                                   snowdepthm\n",
       "maxhumidity                                                 snowdepthi\n",
       "maxpressurei                                                      hail\n",
       "maxpressurem                                                   thunder\n",
       "maxtempi                                                       tornado\n",
       "maxtempm                                                     meantempm\n",
       "maxvisi                                                      meantempi\n",
       "maxvism                                                     meandewptm\n",
       "maxwspdi                                                    meandewpti\n",
       "maxwspdm                                                 meanpressurem\n",
       "meandewpti                                               meanpressurei\n",
       "meandewptm                                                meanwindspdm\n",
       "meanpressurei                                             meanwindspdi\n",
       "meanpressurem                                                meanwdire\n",
       "meantempi                                                    meanwdird\n",
       "meantempm                                                     meanvism\n",
       "meanvisi                                                      meanvisi\n",
       "meanvism                                                      humidity\n",
       "meanwdird                                                     maxtempm\n",
       "meanwdire                                                     maxtempi\n",
       "...                                                                ...\n",
       "minvism                                                   minpressurem\n",
       "minwspdi                                                  minpressurei\n",
       "minwspdm                                                      maxwspdm\n",
       "monthtodatecoolingdegreedays                                  maxwspdi\n",
       "monthtodatecoolingdegreedaysnormal                            minwspdm\n",
       "monthtodateheatingdegreedays                                  minwspdi\n",
       "monthtodateheatingdegreedaysnormal                             maxvism\n",
       "monthtodatesnowfalli                                           maxvisi\n",
       "monthtodatesnowfallm                                           minvism\n",
       "precipi                                                        minvisi\n",
       "precipm                                                    gdegreedays\n",
       "precipsource                                         heatingdegreedays\n",
       "rain                                                 coolingdegreedays\n",
       "since1jancoolingdegreedays                                     precipm\n",
       "since1jancoolingdegreedaysnormal                               precipi\n",
       "since1julheatingdegreedays                                precipsource\n",
       "since1julheatingdegreedaysnormal               heatingdegreedaysnormal\n",
       "since1julsnowfalli                        monthtodateheatingdegreedays\n",
       "since1julsnowfallm                  monthtodateheatingdegreedaysnormal\n",
       "since1sepcoolingdegreedays                  since1sepheatingdegreedays\n",
       "since1sepcoolingdegreedaysnormal      since1sepheatingdegreedaysnormal\n",
       "since1sepheatingdegreedays                  since1julheatingdegreedays\n",
       "since1sepheatingdegreedaysnormal      since1julheatingdegreedaysnormal\n",
       "snow                                           coolingdegreedaysnormal\n",
       "snowdepthi                                monthtodatecoolingdegreedays\n",
       "snowdepthm                          monthtodatecoolingdegreedaysnormal\n",
       "snowfalli                                   since1sepcoolingdegreedays\n",
       "snowfallm                             since1sepcoolingdegreedaysnormal\n",
       "thunder                                     since1jancoolingdegreedays\n",
       "tornado                               since1jancoolingdegreedaysnormal\n",
       "\n",
       "[70 rows x 1 columns]"
      ]
     },
     "execution_count": 54,
     "metadata": {},
     "output_type": "execute_result"
    }
   ],
   "source": [
    "df = pd.read_json('data/weather/Theewaterskloof_20120101.json')\n",
    "df = df['history']['dailysummary'][0]\n",
    "df\n",
    "new=pd.DataFrame()\n",
    "new['d'] = df\n",
    "new"
   ]
  },
  {
   "cell_type": "code",
   "execution_count": 41,
   "metadata": {
    "collapsed": true
   },
   "outputs": [],
   "source": [
    "rain = rain.astype(float)"
   ]
  },
  {
   "cell_type": "code",
   "execution_count": 44,
   "metadata": {
    "scrolled": true
   },
   "outputs": [
    {
     "data": {
      "text/plain": [
       "[<matplotlib.lines.Line2D at 0x11db26b00>]"
      ]
     },
     "execution_count": 44,
     "metadata": {},
     "output_type": "execute_result"
    },
    {
     "data": {
      "image/png": "[encoded data removed]",
      "text/plain": [
       "<matplotlib.figure.Figure at 0x1196a5128>"
      ]
     },
     "metadata": {},
     "output_type": "display_data"
    }
   ],
   "source": [
    "plt.figure(figsize = (20,5))\n",
    "plt.plot(rain)"
   ]
  },
  {
   "cell_type": "code",
   "execution_count": null,
   "metadata": {
    "collapsed": true
   },
   "outputs": [],
   "source": [
    "weather_daysumm = pd.Series()\n",
    "date = datetime.date(year = 2012, month = 1, day = 1)\n",
    "while date < datetime.date(year = 2015, month = 1, day = 1):\n",
    "    weather_json = pd.read_json('data/weather/Theewaterskloof_{0}.json'.format(str(date.strftime('%Y%m%d'))))\n",
    "    weather_daysumm_json = weather_json['history']['dailysummary'][0]\n",
    "    daysumm = pd.DataFrame()\n",
    "    for key, value in weather_daysumm_json.items():\n",
    "        print(key,value)\n",
    "        if key != 'date':\n",
    "            daysumm[key] = value\n",
    "    print(daysumm)\n",
    "    break\n",
    "    weather_daysumm = pd.concat([weather_daysumm, daysumm])\n",
    "    date = date + datetime.timedelta(days = 1)\n",
    "    "
   ]
  },
  {
   "cell_type": "code",
   "execution_count": null,
   "metadata": {
    "collapsed": true
   },
   "outputs": [],
   "source": [
    "rain = pd.Series()\n",
    "date = datetime.date(year = 2012, month = 1, day = 1)\n",
    "while date < datetime.date(year = 2015, month = 1, day = 1):\n",
    "    df = pd.read_json('data/weather/Theewaterskloof_{0}.json'.format(str(date.strftime('%Y%m%d'))))\n",
    "    rain[date] = df['history']['dailysummary'][0]['precipm']\n",
    "    date = date + datetime.timedelta(days = 1)\n",
    "    \n",
    "rain = rain.astype(float)\n",
    "\n",
    "weather_daysumm"
   ]
  },
  {
   "cell_type": "code",
   "execution_count": null,
   "metadata": {
    "collapsed": true
   },
   "outputs": [],
   "source": [
    "rain = rain.reset_index()\n",
    "rain.columns = ['date', 'precipm']\n",
    "rain['date'] = pd.to_datetime(rain['date'])\n",
    "rain.head()"
   ]
  },
  {
   "cell_type": "code",
   "execution_count": null,
   "metadata": {
    "collapsed": true
   },
   "outputs": [],
   "source": [
    "theewaterskloof = dam_levels.loc[(dam_levels['dam_name'] == 'Theewaterskloof')\n",
    "                                 & (dam_levels['date'] < '2015-01-01')]"
   ]
  },
  {
   "cell_type": "code",
   "execution_count": null,
   "metadata": {
    "collapsed": true
   },
   "outputs": [],
   "source": [
    "theewaterskloof = pd.merge(theewaterskloof, rain, on = 'date')"
   ]
  },
  {
   "cell_type": "code",
   "execution_count": null,
   "metadata": {
    "collapsed": true
   },
   "outputs": [],
   "source": [
    "fig = plt.figure(figsize = (15,15) )\n",
    "ax1 = fig.add_subplot(3, 1, 1)\n",
    "ax2 = fig.add_subplot(3, 1, 2)\n",
    "ax3 = fig.add_subplot(3, 1, 3)\n",
    "\n",
    "ax1.plot(theewaterskloof['diff_storage_ml'])\n",
    "ax2.plot(theewaterskloof['precipm'])\n",
    "ax3.plot(theewaterskloof['rolling3_lead1_precipm'])\n",
    "#ax1.plot(theewaterskloof['precipm'])"
   ]
  },
  {
   "cell_type": "code",
   "execution_count": null,
   "metadata": {
    "collapsed": true
   },
   "outputs": [],
   "source": [
    "fig, ax = plt.subplots()\n",
    "ax1, ax2 = two_scales(ax, theewaterskloof.index, theewaterskloof['storage_ml'], theewaterskloof['rolling3_lead1_precipm'], 'r', 'b')\n"
   ]
  },
  {
   "cell_type": "code",
   "execution_count": null,
   "metadata": {
    "collapsed": true
   },
   "outputs": [],
   "source": [
    "theewaterskloof['storage_ml'].corr(theewaterskloof['precipm'])\n",
    "plt.scatter(theewaterskloof['storage_ml'],theewaterskloof['precipm'])\n",
    "plt.ylim([0,20])"
   ]
  },
  {
   "cell_type": "code",
   "execution_count": null,
   "metadata": {
    "collapsed": true
   },
   "outputs": [],
   "source": [
    "theewaterskloof['diff_storage_ml'].corr(theewaterskloof['precipm'])\n",
    "plt.figure(figsize = (10, 7))\n",
    "plt.scatter(theewaterskloof['diff_storage_ml'],theewaterskloof['precipm'])"
   ]
  },
  {
   "cell_type": "code",
   "execution_count": null,
   "metadata": {
    "collapsed": true
   },
   "outputs": [],
   "source": [
    "theewaterskloof['diff_storage_ml'] = theewaterskloof['storage_ml'].diff(periods = 1)\n",
    "theewaterskloof['lead1_precipm'] = theewaterskloof['precipm'].shift(periods = 1)\n",
    "theewaterskloof['lead2_precipm'] = theewaterskloof['precipm'].shift(periods = 2)\n",
    "theewaterskloof['lead3_precipm'] = theewaterskloof['precipm'].shift(periods = 3)\n",
    "theewaterskloof['rolling2_lead1_precipm'] = theewaterskloof['lead1_precipm'].rolling(window = 2).sum()\n",
    "theewaterskloof['rolling2_precipm'] = theewaterskloof['precipm'].rolling(window = 2).sum()\n"
   ]
  },
  {
   "cell_type": "code",
   "execution_count": null,
   "metadata": {
    "collapsed": true
   },
   "outputs": [],
   "source": [
    "theewaterskloof['diff_storage_ml'].corr(theewaterskloof['rolling2_lead1_precipm'])\n",
    "plt.figure(figsize = (10, 7))\n",
    "plt.scatter(theewaterskloof['diff_storage_ml'],theewaterskloof['rolling2_lead1_precipm'])"
   ]
  },
  {
   "cell_type": "code",
   "execution_count": null,
   "metadata": {
    "collapsed": true
   },
   "outputs": [],
   "source": [
    "theewaterskloof['month'] = theewaterskloof['date'].dt.month\n",
    "theewaterskloof_winter = theewaterskloof.loc[(theewaterskloof['month'] >= 6) &\n",
    "                                            (theewaterskloof['month'] < 10) &\n",
    "                                            (theewaterskloof['diff_storage_ml'] > 0)]\n",
    "theewaterskloof_winter['diff_storage_ml'].corr(theewaterskloof_winter['rolling2_lead1_precipm'])\n",
    "plt.figure(figsize = (10, 7))\n",
    "plt.scatter(theewaterskloof_winter['diff_storage_ml'],theewaterskloof_winter['rolling2_lead1_precipm'])"
   ]
  },
  {
   "cell_type": "code",
   "execution_count": null,
   "metadata": {
    "collapsed": true
   },
   "outputs": [],
   "source": [
    "theewaterskloof_winter['precipm'].hist(bins = 30)"
   ]
  },
  {
   "cell_type": "code",
   "execution_count": null,
   "metadata": {
    "collapsed": true
   },
   "outputs": [],
   "source": []
  }
 ],
 "metadata": {
  "kernelspec": {
   "display_name": "Python 3",
   "language": "python",
   "name": "python3"
  },
  "language_info": {
   "codemirror_mode": {
    "name": "ipython",
    "version": 3
   },
   "file_extension": ".py",
   "mimetype": "text/x-python",
   "name": "python",
   "nbconvert_exporter": "python",
   "pygments_lexer": "ipython3",
   "version": "3.6.1"
  }
 },
 "nbformat": 4,
 "nbformat_minor": 2
}
