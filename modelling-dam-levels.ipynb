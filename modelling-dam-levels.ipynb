{
 "cells": [
  {
   "cell_type": "code",
   "execution_count": null,
   "metadata": {
    "collapsed": true
   },
   "outputs": [],
   "source": [
    "theewaterskloof['month'] = theewaterskloof['date'].dt.month\n",
    "theewaterskloof_winter = theewaterskloof.loc[(theewaterskloof['month'] >= 6) &\n",
    "                                            (theewaterskloof['month'] < 10) &\n",
    "                                            (theewaterskloof['diff_storage_ml'] > 0)]\n",
    "theewaterskloof_winter['diff_storage_ml'].corr(theewaterskloof_winter['rolling2_lead1_precipm'])\n",
    "plt.figure(figsize = (10, 7))\n",
    "plt.scatter(theewaterskloof_winter['diff_storage_ml'],theewaterskloof_winter['rolling2_lead1_precipm'])"
   ]
  },
  {
   "cell_type": "code",
   "execution_count": null,
   "metadata": {
    "collapsed": true
   },
   "outputs": [],
   "source": [
    "theewaterskloof_winter['precipm'].hist(bins = 30)"
   ]
  },
  {
   "cell_type": "code",
   "execution_count": null,
   "metadata": {
    "collapsed": true
   },
   "outputs": [],
   "source": [
    "num_var = data.select_dtypes(include=[np.number]).columns\n",
    "num_var = num_var.drop(['diff_storage_ml', 'storage_ml', 'height_m', 'percdiff_storage_ml'])"
   ]
  },
  {
   "cell_type": "code",
   "execution_count": null,
   "metadata": {
    "collapsed": true
   },
   "outputs": [],
   "source": [
    "Split data into training & test sets. Will do this based on date:\n",
    "2012, 2014, 2016: train\n",
    "2013, 2015, 2017: test"
   ]
  },
  {
   "cell_type": "code",
   "execution_count": null,
   "metadata": {
    "collapsed": true
   },
   "outputs": [],
   "source": [
    "dtrain = data[data['date'].dt.year.isin([2012, 2014, 2016])].dropna(axis = 0, how = 'any')\n",
    "dtest = data[data['date'].dt.year.isin([2013, 2015, 2017])].dropna(axis = 0, how = 'any')"
   ]
  },
  {
   "cell_type": "code",
   "execution_count": null,
   "metadata": {
    "collapsed": true
   },
   "outputs": [],
   "source": [
    "from sklearn.ensemble import RandomForestRegressor\n",
    "\n",
    "dtrain = data[data['date'].dt.year.isin([2012, 2014, 2016])].dropna(axis = 0, how = 'any')\n",
    "dtest = data[data['date'].dt.year.isin([2013, 2015, 2017])].dropna(axis = 0, how = 'any')\n",
    "\n",
    "x_train = dtrain[num_var]\n",
    "y_train = dtrain['percdiff_storage_ml']\n",
    "\n",
    "x_test = dtest[num_var]\n",
    "y_test = dtest['percdiff_storage_ml']\n",
    "\n",
    "regr = RandomForestRegressor(max_depth=2, random_state=0)\n",
    "regr.fit(x_train, y_train)\n",
    "print(regr.feature_importances_)\n",
    "ypred_rf = regr.predict(x_test)\n",
    "\n",
    "\n",
    "y_actual_vs_pred = pd.DataFrame({'actual': y_test,\n",
    "                                 'pred': ypred_rf})\n",
    "fig = plt.figure(figsize = (15,15))\n",
    "plt.scatter(y_actual_vs_pred['actual'], y_actual_vs_pred['pred'])"
   ]
  },
  {
   "cell_type": "code",
   "execution_count": null,
   "metadata": {
    "collapsed": true
   },
   "outputs": [],
   "source": [
    "error(y_actual_vs_pred['actual'], y_actual_vs_pred['pred'], log = False)\n",
    "importances = regr.feature_importances_\n",
    "std = np.std([tree.feature_importances_ for tree in regr.estimators_],\n",
    "             axis=0)\n",
    "zip_importances = list(zip(x_train.columns, importances))\n",
    "indices = np.argsort(importances)[::-1]\n",
    "zip_importances = [zip_importances[i] for i in indices]\n",
    "\n",
    "# Print the feature ranking\n",
    "print(\"Feature ranking:\")\n",
    "\n",
    "for f in range(x_train.shape[1]):\n",
    "    i = indices[f]\n",
    "    print(\"%d. %s (%f)\" % (f + 1, zip_importances[i][0], zip_importances[i][1]))\n",
    "\n",
    "# Plot the feature importances of the forest\n",
    "plt.figure()\n",
    "plt.title(\"Feature importances\")\n",
    "plt.bar(range(x_train.shape[1]), importances[indices],\n",
    "       color=\"r\", yerr=std[indices], align=\"center\")\n",
    "features = x_train.columns\n",
    "features = [features[i] for i in indices]\n",
    "plt.xticks(range(x_train.shape[1]), features, rotation = 90)\n",
    "plt.xlim([-1, x_train.shape[1]])\n",
    "plt.show();"
   ]
  },
  {
   "cell_type": "code",
   "execution_count": null,
   "metadata": {
    "collapsed": true
   },
   "outputs": [],
   "source": [
    "import sklearn.linear_model as linear_model\n",
    "\n",
    "ridge = linear_model.RidgeCV(normalize = True)\n",
    "\n",
    "x_train = dtrain[num_var]\n",
    "y_train = dtrain['diff_storage_ml']\n",
    "ridge.fit(x_train, y_train)\n",
    "\n",
    "ypred_train = ridge.predict(x_train)\n",
    "print(error(y_train, ypred_train, log = False))\n",
    "\n",
    "x_test = dtest.drop('diff_storage_ml', axis = 1)[num_var]\n",
    "\n",
    "ypred_ridge = ridge.predict(x_test)\n",
    "\n",
    "y_actual_vs_pred = pd.DataFrame({'actual': dtest['diff_storage_ml'],\n",
    "                                 'pred': ypred_ridge})\n",
    "# fig = plt.figure(figsize = (30,30))\n",
    "sns.lmplot('actual', 'pred', y_actual_vs_pred)"
   ]
  },
  {
   "cell_type": "code",
   "execution_count": null,
   "metadata": {
    "collapsed": true
   },
   "outputs": [],
   "source": []
  },
  {
   "cell_type": "code",
   "execution_count": null,
   "metadata": {
    "collapsed": true
   },
   "outputs": [],
   "source": []
  }
 ],
 "metadata": {
  "anaconda-cloud": {},
  "kernelspec": {
   "display_name": "Python [conda env:Anaconda3]",
   "language": "python",
   "name": "conda-env-Anaconda3-py"
  },
  "language_info": {
   "codemirror_mode": {
    "name": "ipython",
    "version": 3
   },
   "file_extension": ".py",
   "mimetype": "text/x-python",
   "name": "python",
   "nbconvert_exporter": "python",
   "pygments_lexer": "ipython3",
   "version": "3.5.4"
  }
 },
 "nbformat": 4,
 "nbformat_minor": 2
}
