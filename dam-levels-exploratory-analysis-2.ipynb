{
 "cells": [
  {
   "cell_type": "markdown",
   "metadata": {},
   "source": [
    "# TODO:\n",
    "\n"
   ]
  },
  {
   "cell_type": "code",
   "execution_count": 377,
   "metadata": {
    "collapsed": true
   },
   "outputs": [],
   "source": [
    "%matplotlib inline\n",
    "\n",
    "import numpy as np\n",
    "import pandas as pd\n",
    "import matplotlib.pyplot as plt\n",
    "import seaborn as sns\n",
    "import re\n",
    "import datetime\n",
    "\n",
    "from IPython.core.interactiveshell import InteractiveShell\n",
    "InteractiveShell.ast_node_interactivity = \"all\"\n",
    "\n",
    "sns.set_style(\"darkgrid\")\n",
    "\n",
    "dam_levels = pd.read_csv('data/Dam-levels-clean-20120101-20171206.csv')\n",
    "dam_levels['date'] = pd.to_datetime(dam_levels['date'])\n",
    "\n",
    "# Add some date-related fields that will be useful later\n",
    "dam_levels['year'] = dam_levels['date'].dt.year\n",
    "dam_levels['month'] = dam_levels['date'].dt.month\n",
    "dam_levels['monthname'] = dam_levels['date'].dt.strftime('%b')\n",
    "dam_levels['week'] = dam_levels['date'].dt.week\n",
    "dam_levels['dayofmonth'] = dam_levels['date'].dt.day\n",
    "dam_levels['dayofyear'] = dam_levels['date'].dt.dayofyear\n",
    "dam_levels['daymonth'] = dam_levels['dayofmonth'].apply(str) + '-' + dam_levels['monthname']\n",
    "dam_levels['daymonthyear'] = dam_levels['dayofmonth'].apply(str) + '-' + dam_levels['monthname'] + '-' + dam_levels['year'].apply(str)"
   ]
  },
  {
   "cell_type": "markdown",
   "metadata": {},
   "source": [
    "There are 14 dams in the dataset."
   ]
  },
  {
   "cell_type": "code",
   "execution_count": 559,
   "metadata": {
    "scrolled": true
   },
   "outputs": [
    {
     "data": {
      "text/html": [
       "<div>\n",
       "<style>\n",
       "    .dataframe thead tr:only-child th {\n",
       "        text-align: right;\n",
       "    }\n",
       "\n",
       "    .dataframe thead th {\n",
       "        text-align: left;\n",
       "    }\n",
       "\n",
       "    .dataframe tbody tr th {\n",
       "        vertical-align: top;\n",
       "    }\n",
       "</style>\n",
       "<table border=\"1\" class=\"dataframe\">\n",
       "  <thead>\n",
       "    <tr style=\"text-align: right;\">\n",
       "      <th></th>\n",
       "      <th>max_storage_ml</th>\n",
       "      <th>unavailable_storage_ml</th>\n",
       "    </tr>\n",
       "    <tr>\n",
       "      <th>dam_name</th>\n",
       "      <th></th>\n",
       "      <th></th>\n",
       "    </tr>\n",
       "  </thead>\n",
       "  <tbody>\n",
       "    <tr>\n",
       "      <th>Theewaterskloof</th>\n",
       "      <td>480187.999929</td>\n",
       "      <td>48018.799993</td>\n",
       "    </tr>\n",
       "    <tr>\n",
       "      <th>Voëlvlei</th>\n",
       "      <td>164094.999989</td>\n",
       "      <td>16409.499999</td>\n",
       "    </tr>\n",
       "    <tr>\n",
       "      <th>Berg River</th>\n",
       "      <td>130010.000002</td>\n",
       "      <td>13001.000000</td>\n",
       "    </tr>\n",
       "    <tr>\n",
       "      <th>Wemmershoek</th>\n",
       "      <td>58643.999996</td>\n",
       "      <td>5864.400000</td>\n",
       "    </tr>\n",
       "    <tr>\n",
       "      <th>Steenbras Lower</th>\n",
       "      <td>33517.000003</td>\n",
       "      <td>3351.700000</td>\n",
       "    </tr>\n",
       "    <tr>\n",
       "      <th>Steenbras Upper</th>\n",
       "      <td>31767.000001</td>\n",
       "      <td>3176.700000</td>\n",
       "    </tr>\n",
       "  </tbody>\n",
       "</table>\n",
       "</div>"
      ],
      "text/plain": [
       "                 max_storage_ml  unavailable_storage_ml\n",
       "dam_name                                               \n",
       "Theewaterskloof   480187.999929            48018.799993\n",
       "Voëlvlei          164094.999989            16409.499999\n",
       "Berg River        130010.000002            13001.000000\n",
       "Wemmershoek        58643.999996             5864.400000\n",
       "Steenbras Lower    33517.000003             3351.700000\n",
       "Steenbras Upper    31767.000001             3176.700000"
      ]
     },
     "execution_count": 559,
     "metadata": {},
     "output_type": "execute_result"
    }
   ],
   "source": [
    "capacity.sort_values('max_storage_ml', ascending = 0)[1:]"
   ]
  },
  {
   "cell_type": "code",
   "execution_count": 560,
   "metadata": {
    "scrolled": true
   },
   "outputs": [
    {
     "data": {
      "image/png": "[encoded data removed]",
      "text/plain": [
       "<matplotlib.figure.Figure at 0x12f05b9e8>"
      ]
     },
     "metadata": {},
     "output_type": "display_data"
    }
   ],
   "source": [
    "dam_labels = capacity.sort_values('max_storage_ml', ascending = 0)[1:].index\n",
    "\n",
    "for dam in dam_labels:\n",
    "    dam_df = dam_levels.loc[dam_levels['dam_name'] == dam]\n",
    "    plt.scatter(dam_df['storage_ml'], dam_df['height_m'], label = dam)\n",
    "plt.legend();"
   ]
  },
  {
   "cell_type": "code",
   "execution_count": 528,
   "metadata": {},
   "outputs": [
    {
     "data": {
      "text/html": [
       "<div>\n",
       "<style>\n",
       "    .dataframe thead tr:only-child th {\n",
       "        text-align: right;\n",
       "    }\n",
       "\n",
       "    .dataframe thead th {\n",
       "        text-align: left;\n",
       "    }\n",
       "\n",
       "    .dataframe tbody tr th {\n",
       "        vertical-align: top;\n",
       "    }\n",
       "</style>\n",
       "<table border=\"1\" class=\"dataframe\">\n",
       "  <thead>\n",
       "    <tr style=\"text-align: right;\">\n",
       "      <th>dam_name</th>\n",
       "      <th>Berg River</th>\n",
       "      <th>Steenbras Lower</th>\n",
       "      <th>Steenbras Upper</th>\n",
       "      <th>Theewaterskloof</th>\n",
       "      <th>Voëlvlei</th>\n",
       "      <th>Wemmershoek</th>\n",
       "    </tr>\n",
       "    <tr>\n",
       "      <th>dam_name</th>\n",
       "      <th></th>\n",
       "      <th></th>\n",
       "      <th></th>\n",
       "      <th></th>\n",
       "      <th></th>\n",
       "      <th></th>\n",
       "    </tr>\n",
       "  </thead>\n",
       "  <tbody>\n",
       "    <tr>\n",
       "      <th>Berg River</th>\n",
       "      <td>1.000000</td>\n",
       "      <td>0.859436</td>\n",
       "      <td>0.782166</td>\n",
       "      <td>0.921385</td>\n",
       "      <td>0.886993</td>\n",
       "      <td>0.876854</td>\n",
       "    </tr>\n",
       "    <tr>\n",
       "      <th>Steenbras Lower</th>\n",
       "      <td>0.859436</td>\n",
       "      <td>1.000000</td>\n",
       "      <td>0.737891</td>\n",
       "      <td>0.870402</td>\n",
       "      <td>0.829767</td>\n",
       "      <td>0.904825</td>\n",
       "    </tr>\n",
       "    <tr>\n",
       "      <th>Steenbras Upper</th>\n",
       "      <td>0.782166</td>\n",
       "      <td>0.737891</td>\n",
       "      <td>1.000000</td>\n",
       "      <td>0.642192</td>\n",
       "      <td>0.682243</td>\n",
       "      <td>0.717032</td>\n",
       "    </tr>\n",
       "    <tr>\n",
       "      <th>Theewaterskloof</th>\n",
       "      <td>0.921385</td>\n",
       "      <td>0.870402</td>\n",
       "      <td>0.642192</td>\n",
       "      <td>1.000000</td>\n",
       "      <td>0.922401</td>\n",
       "      <td>0.948694</td>\n",
       "    </tr>\n",
       "    <tr>\n",
       "      <th>Voëlvlei</th>\n",
       "      <td>0.886993</td>\n",
       "      <td>0.829767</td>\n",
       "      <td>0.682243</td>\n",
       "      <td>0.922401</td>\n",
       "      <td>1.000000</td>\n",
       "      <td>0.922894</td>\n",
       "    </tr>\n",
       "    <tr>\n",
       "      <th>Wemmershoek</th>\n",
       "      <td>0.876854</td>\n",
       "      <td>0.904825</td>\n",
       "      <td>0.717032</td>\n",
       "      <td>0.948694</td>\n",
       "      <td>0.922894</td>\n",
       "      <td>1.000000</td>\n",
       "    </tr>\n",
       "  </tbody>\n",
       "</table>\n",
       "</div>"
      ],
      "text/plain": [
       "dam_name         Berg River  Steenbras Lower  Steenbras Upper  \\\n",
       "dam_name                                                        \n",
       "Berg River         1.000000         0.859436         0.782166   \n",
       "Steenbras Lower    0.859436         1.000000         0.737891   \n",
       "Steenbras Upper    0.782166         0.737891         1.000000   \n",
       "Theewaterskloof    0.921385         0.870402         0.642192   \n",
       "Voëlvlei           0.886993         0.829767         0.682243   \n",
       "Wemmershoek        0.876854         0.904825         0.717032   \n",
       "\n",
       "dam_name         Theewaterskloof  Voëlvlei  Wemmershoek  \n",
       "dam_name                                                 \n",
       "Berg River              0.921385  0.886993     0.876854  \n",
       "Steenbras Lower         0.870402  0.829767     0.904825  \n",
       "Steenbras Upper         0.642192  0.682243     0.717032  \n",
       "Theewaterskloof         1.000000  0.922401     0.948694  \n",
       "Voëlvlei                0.922401  1.000000     0.922894  \n",
       "Wemmershoek             0.948694  0.922894     1.000000  "
      ]
     },
     "execution_count": 528,
     "metadata": {},
     "output_type": "execute_result"
    }
   ],
   "source": [
    "dam_levels.pivot_table(index = 'date', columns = 'dam_name', values = 'storage_ml').corr()"
   ]
  }
 ],
 "metadata": {
  "kernelspec": {
   "display_name": "Python 3",
   "language": "python",
   "name": "python3"
  },
  "language_info": {
   "codemirror_mode": {
    "name": "ipython",
    "version": 3
   },
   "file_extension": ".py",
   "mimetype": "text/x-python",
   "name": "python",
   "nbconvert_exporter": "python",
   "pygments_lexer": "ipython3",
   "version": "3.6.1"
  }
 },
 "nbformat": 4,
 "nbformat_minor": 2
}
